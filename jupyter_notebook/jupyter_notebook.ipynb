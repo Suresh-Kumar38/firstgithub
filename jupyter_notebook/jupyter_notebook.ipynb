{
 "cells": [
  {
   "cell_type": "markdown",
   "id": "f5934c6e",
   "metadata": {},
   "source": [
    "# Python Ka Chilla with Baba_Aammar\n",
    "## How to use Jupyter Notebook\n",
    "## Basics of Python"
   ]
  },
  {
   "cell_type": "markdown",
   "id": "83afee21",
   "metadata": {},
   "source": [
    " ### **01- My first program**"
   ]
  },
  {
   "cell_type": "code",
   "execution_count": 1,
   "id": "e2afd240",
   "metadata": {},
   "outputs": [
    {
     "name": "stdout",
     "output_type": "stream",
     "text": [
      "5\n",
      "Hello World\n",
      "We are learning with Aammar\n"
     ]
    }
   ],
   "source": [
    "print(2+3)\n",
    "print(\"Hello World\")\n",
    "print(\"We are learning with Aammar\")"
   ]
  },
  {
   "cell_type": "markdown",
   "id": "0ca085db",
   "metadata": {},
   "source": [
    "### **02- Operators**"
   ]
  },
  {
   "cell_type": "code",
   "execution_count": 2,
   "id": "047f9c4f",
   "metadata": {},
   "outputs": [
    {
     "name": "stdout",
     "output_type": "stream",
     "text": [
      "5\n",
      "2\n",
      "6\n",
      "3.0\n",
      "3\n",
      "1\n",
      "8\n",
      "10.0\n"
     ]
    }
   ],
   "source": [
    "print(2+3)\n",
    "print(3-1)\n",
    "print(2*3)\n",
    "print(6/2)\n",
    "print(6//2)\n",
    "print(9%2)\n",
    "print(2**3)\n",
    "\n",
    "print(2**3*2/2+8-6)"
   ]
  },
  {
   "cell_type": "markdown",
   "id": "f173721e",
   "metadata": {},
   "source": [
    "### **03- Strings**"
   ]
  },
  {
   "cell_type": "code",
   "execution_count": 3,
   "id": "58c091f3",
   "metadata": {},
   "outputs": [
    {
     "name": "stdout",
     "output_type": "stream",
     "text": [
      "My name is Suresh\n",
      "My name is Suresh\n",
      "My name is Suresh\n",
      "what's up\n"
     ]
    }
   ],
   "source": [
    "print('My name is Suresh')\n",
    "print(\"My name is Suresh\")\n",
    "print('''My name is Suresh''')\n",
    "print(\"what's up\")"
   ]
  },
  {
   "cell_type": "markdown",
   "id": "5fc00949",
   "metadata": {},
   "source": [
    "### **04- Comments**\n",
    "The shortcut key to comments is **Ctrl/**"
   ]
  },
  {
   "cell_type": "code",
   "execution_count": 4,
   "id": "a162a6e4",
   "metadata": {},
   "outputs": [
    {
     "name": "stdout",
     "output_type": "stream",
     "text": [
      "How are you\n",
      "We are learning with Dr Aammar\n",
      "7\n"
     ]
    }
   ],
   "source": [
    "print(\"How are you\") #press this to comment out (Ctrl+/)\n",
    "print(\"We are learning with Dr Aammar\") #print a string\n",
    "print(2+5) #print operator function with numbers"
   ]
  },
  {
   "cell_type": "markdown",
   "id": "35b8ea9b",
   "metadata": {},
   "source": [
    "### **05- Variables**\n",
    "**Variables:** Object containing specific values\n",
    "#### Rules to assign a variable\n",
    "- The variable should contain letters, numbers or underscores\n",
    "- Do not start with numbers... for suppose 2x\n",
    "- Spaces are not allowed\n",
    "- Do not use keywords used in functions (break, mean, median, test etc)\n",
    "- Short and descriptive\n",
    "- Case sensitivity (lowercase, uppercase letters... lowercase letters are suggested)"
   ]
  },
  {
   "cell_type": "code",
   "execution_count": 5,
   "id": "2f2d1905",
   "metadata": {},
   "outputs": [
    {
     "name": "stdout",
     "output_type": "stream",
     "text": [
      "5\n",
      "we are Pakistani\n",
      "15\n"
     ]
    }
   ],
   "source": [
    "x=5  #numeric or integer variable\n",
    "print(x)\n",
    "\n",
    "y=\"we are Pakistani\" #string variable\n",
    "print(y)\n",
    "\n",
    "x=x+10 #or x=15\n",
    "print(x)"
   ]
  },
  {
   "cell_type": "markdown",
   "id": "54459d94",
   "metadata": {},
   "source": [
    "**types/class of variables**"
   ]
  },
  {
   "cell_type": "code",
   "execution_count": 6,
   "id": "6e624558",
   "metadata": {},
   "outputs": [
    {
     "name": "stdout",
     "output_type": "stream",
     "text": [
      "<class 'int'>\n",
      "<class 'str'>\n",
      "Mangoes\n",
      "<class 'str'>\n"
     ]
    }
   ],
   "source": [
    "print(type(x))\n",
    "print(type(y))\n",
    "\n",
    "fruit_basket= \"Mangoes\"\n",
    "print(fruit_basket)\n",
    "print(type(fruit_basket))"
   ]
  },
  {
   "cell_type": "markdown",
   "id": "1e0dc213",
   "metadata": {},
   "source": [
    "### **06- Input variables**"
   ]
  },
  {
   "cell_type": "code",
   "execution_count": 7,
   "id": "7ab20902",
   "metadata": {},
   "outputs": [
    {
     "name": "stdout",
     "output_type": "stream",
     "text": [
      "what is your favourite fruit? Apple\n",
      "Apple\n",
      "what is your name? Suresh\n",
      "Hello! Suresh\n",
      "what is your name? Suresh\n",
      "Hello! Suresh\n",
      "what is your name? Suresh\n",
      "what is your age? 27\n",
      "Hello! Suresh ,You are still young\n"
     ]
    }
   ],
   "source": [
    "#simple input function\n",
    "fruit_basket=input(\"what is your favourite fruit? \")\n",
    "print(fruit_basket)\n",
    "\n",
    "#2nd stage input functions\n",
    "name= input(\"what is your name? \")\n",
    "greatings= \"Hello!\"\n",
    "print(greatings, name)\n",
    "\n",
    "#2nd stage input functions (another way)\n",
    "name= input(\"what is your name? \")\n",
    "print(\"Hello!\", name)\n",
    "\n",
    "#3rd stage input functions\n",
    "name= input(\"what is your name? \")\n",
    "age= input(\"what is your age? \")\n",
    "greatings= \"Hello!\"\n",
    "print(greatings, name, \",You are still young\")"
   ]
  },
  {
   "cell_type": "markdown",
   "id": "67298ee6",
   "metadata": {},
   "source": [
    "### **07- Conditional logics**\n",
    "logical operators are either \"true or false\" or \"yes or no\" or \"0 or 1\"\n",
    "- equal to                               ==\n",
    "- not equal to                           !=\n",
    "- less then                              <\n",
    "- greater than                           >\n",
    "- less than and equal to                 <=\n",
    "- greater than and equal to              >="
   ]
  },
  {
   "cell_type": "code",
   "execution_count": 16,
   "id": "e3820dac",
   "metadata": {},
   "outputs": [
    {
     "name": "stdout",
     "output_type": "stream",
     "text": [
      "True\n",
      "False\n",
      "True\n",
      "True\n",
      "True\n",
      "True\n",
      "True\n",
      "False\n",
      "what is the age of hammad? 4\n",
      "False\n"
     ]
    }
   ],
   "source": [
    "#is 4 equal to 4?\n",
    "print(4==4)\n",
    "print(4!=4)\n",
    "print(4<6)\n",
    "print(4>3)\n",
    "print(5<=6)\n",
    "print(6>=5)\n",
    "\n",
    "#application of logical operators\n",
    "hammad_age=4\n",
    "age_at_school=5\n",
    "print(hammad_age!=age_at_school)\n",
    "print(hammad_age==age_at_school)\n",
    "\n",
    "#input functions and logical operators\n",
    "hammad_age=input(\"what is the age of hammad? \")\n",
    "hammad_age=int(hammad_age)\n",
    "age_at_school=5 \n",
    "print(hammad_age==age_at_school)"
   ]
  },
  {
   "cell_type": "markdown",
   "id": "b01ad144",
   "metadata": {},
   "source": [
    "### **08- Type conversion**"
   ]
  },
  {
   "cell_type": "code",
   "execution_count": 9,
   "id": "36bbcc0a",
   "metadata": {},
   "outputs": [
    {
     "name": "stdout",
     "output_type": "stream",
     "text": [
      "15.3 type of x is: <class 'float'>\n",
      "what is your age? 27\n",
      "27 <class 'int'>\n",
      "what is your name? Suresh\n",
      "Suresh <class 'str'>\n"
     ]
    }
   ],
   "source": [
    "x=5\n",
    "y=10.3\n",
    "\n",
    "#implicit type conversion\n",
    "x=x+y\n",
    "print(x, \"type of x is:\", type(x))\n",
    "\n",
    "#explicit type conversion\n",
    "age=input(\"what is your age? \")\n",
    "print(age, type(int(age)))\n",
    "\n",
    "#name\n",
    "name=input(\"what is your name? \")\n",
    "print(name, type(str(name)))"
   ]
  },
  {
   "cell_type": "markdown",
   "id": "1065211d",
   "metadata": {},
   "source": [
    "### **09- If elif else statements**"
   ]
  },
  {
   "cell_type": "code",
   "execution_count": 10,
   "id": "870f1e27",
   "metadata": {},
   "outputs": [
    {
     "name": "stdout",
     "output_type": "stream",
     "text": [
      "please take care of hammad, he is still baby!\n"
     ]
    }
   ],
   "source": [
    "hammad_age=1\n",
    "age_required_at_school=5\n",
    "\n",
    "#question: can hammad join the the school?\n",
    "if hammad_age==age_required_at_school:\n",
    "    print(\"congratulations! hammad can join the school.\")\n",
    "elif hammad_age>age_required_at_school:\n",
    "    print(\"hammad should join high secondary school\")\n",
    "elif hammad_age<=2:\n",
    "    print(\"please take care of hammad, he is still baby!\")\n",
    "else:\n",
    "    print(\"hammad can not join the school\")"
   ]
  },
  {
   "cell_type": "markdown",
   "id": "7141480b",
   "metadata": {},
   "source": [
    "### **10- Functions**"
   ]
  },
  {
   "cell_type": "code",
   "execution_count": 11,
   "id": "4d7fa529",
   "metadata": {},
   "outputs": [
    {
     "name": "stdout",
     "output_type": "stream",
     "text": [
      "we are learning with aammar\n",
      "we are learning with aammar\n",
      "we are learning with aammar\n",
      "we are learning with aammar\n",
      "we are learning with aammar\n",
      "we are learning with aammar\n",
      "we are learning python with aammar\n",
      "we are learning python with aammar\n",
      "we are learning python with aammar\n",
      "40\n"
     ]
    }
   ],
   "source": [
    "#defining a function\n",
    "\n",
    "# 1\n",
    "def print_codanics():\n",
    "    print(\"we are learning with aammar\")\n",
    "    print(\"we are learning with aammar\")\n",
    "    print(\"we are learning with aammar\")\n",
    "print_codanics()\n",
    "\n",
    "# 2\n",
    "def print_codanics():\n",
    "    text= \"we are learning with aammar\"\n",
    "    print(text)\n",
    "    print(text)\n",
    "    print(text)\n",
    "print_codanics()\n",
    "\n",
    "# 3\n",
    "def print_codanics(text):\n",
    "    print(text)\n",
    "    print(text)\n",
    "    print(text)\n",
    "print_codanics(\"we are learning python with aammar\")\n",
    "\n",
    "# defining a function with if, elif, else statements\n",
    "def school_calculator(age):\n",
    "    if age==5:\n",
    "        print(\"congratulations! hammad can join the school.\")\n",
    "    elif age>5:\n",
    "        print(\"hammad should join high secondary school\")\n",
    "    else:\n",
    "        print(\"hammad is still a baby\")\n",
    "# school_calculator(5)\n",
    "\n",
    "# defining a function of future\n",
    "def future_age(age):\n",
    "    new_age=age+20\n",
    "    return new_age\n",
    "    print(new_age)\n",
    "\n",
    "future_predicted_age= future_age(20)\n",
    "print(future_predicted_age)"
   ]
  },
  {
   "cell_type": "markdown",
   "id": "e4d01f01",
   "metadata": {},
   "source": [
    "### **11- Loops**"
   ]
  },
  {
   "cell_type": "code",
   "execution_count": 12,
   "id": "43ee9b94",
   "metadata": {},
   "outputs": [
    {
     "name": "stdout",
     "output_type": "stream",
     "text": [
      "0\n",
      "1\n",
      "2\n",
      "3\n",
      "4\n",
      "5\n",
      "6\n",
      "7\n",
      "8\n",
      "9\n",
      "Mon\n",
      "Tue\n",
      "Wed\n",
      "Thu\n",
      "Sat\n",
      "Sun\n"
     ]
    }
   ],
   "source": [
    "# while and for loops\n",
    "\n",
    "# while loop\n",
    "x=0\n",
    "while(x<5):\n",
    "    print(x)\n",
    "    x=x+1\n",
    "\n",
    "# for loop\n",
    "for x in range(5,10):\n",
    "    print(x)\n",
    "\n",
    "\n",
    "# arrays\n",
    "days= [\"Mon\", \"Tue\", \"Wed\", \"Thu\", \"Fri\", \"Sat\", \"Sun\"]\n",
    "for d in days:\n",
    "    # if (d==\"Fri\"):break   #loop stops\n",
    "    if (d==\"Fri\"):continue  #loop skips d\n",
    "    print(d)"
   ]
  },
  {
   "cell_type": "markdown",
   "id": "b435f31e",
   "metadata": {},
   "source": [
    "### **12- Import libraries**"
   ]
  },
  {
   "cell_type": "code",
   "execution_count": 13,
   "id": "3ed5067a",
   "metadata": {},
   "outputs": [
    {
     "name": "stdout",
     "output_type": "stream",
     "text": [
      "The value of Pi is: 3.141592653589793\n",
      "300\n"
     ]
    }
   ],
   "source": [
    "# if you want to print the value of Pi\n",
    "import math\n",
    "print(\"The value of Pi is:\", math.pi)\n",
    "\n",
    "#if you want to calculate mean\n",
    "import statistics\n",
    "x=[150,250,350,450]\n",
    "print(statistics.mean(x))"
   ]
  },
  {
   "cell_type": "markdown",
   "id": "b59c5cde",
   "metadata": {},
   "source": [
    "**some important libraries**\n",
    "1- numpy\n",
    "2- pandas"
   ]
  },
  {
   "cell_type": "markdown",
   "id": "ff73f857",
   "metadata": {},
   "source": [
    "### **13- Trouble shooting**"
   ]
  },
  {
   "cell_type": "code",
   "execution_count": 14,
   "id": "d2126242",
   "metadata": {},
   "outputs": [
    {
     "ename": "SyntaxError",
     "evalue": "invalid syntax (Temp/ipykernel_157452/2214049846.py, line 1)",
     "output_type": "error",
     "traceback": [
      "\u001b[1;36m  File \u001b[1;32m\"C:\\Users\\SURESH~1\\AppData\\Local\\Temp/ipykernel_157452/2214049846.py\"\u001b[1;36m, line \u001b[1;32m1\u001b[0m\n\u001b[1;33m    print(We are learning with Aammar)  #syntax error\u001b[0m\n\u001b[1;37m             ^\u001b[0m\n\u001b[1;31mSyntaxError\u001b[0m\u001b[1;31m:\u001b[0m invalid syntax\n"
     ]
    }
   ],
   "source": [
    "print(We are learning with Aammar)  #syntax error\n",
    "\n",
    "print(25/0) #runtime error\n",
    "\n",
    "name= \"Aammar\"\n",
    "print(\"Hello name\")  #symentic error"
   ]
  }
 ],
 "metadata": {
  "kernelspec": {
   "display_name": "Python 3 (ipykernel)",
   "language": "python",
   "name": "python3"
  },
  "language_info": {
   "codemirror_mode": {
    "name": "ipython",
    "version": 3
   },
   "file_extension": ".py",
   "mimetype": "text/x-python",
   "name": "python",
   "nbconvert_exporter": "python",
   "pygments_lexer": "ipython3",
   "version": "3.9.7"
  }
 },
 "nbformat": 4,
 "nbformat_minor": 5
}
